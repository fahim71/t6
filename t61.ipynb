{
  "nbformat": 4,
  "nbformat_minor": 0,
  "metadata": {
    "colab": {
      "provenance": []
    },
    "kernelspec": {
      "name": "python3",
      "display_name": "Python 3"
    },
    "language_info": {
      "name": "python"
    }
  },
  "cells": [
    {
      "cell_type": "code",
      "execution_count": 1,
      "metadata": {
        "colab": {
          "base_uri": "https://localhost:8080/"
        },
        "id": "bosghELXtp9O",
        "outputId": "b7e68e3b-b9c2-45eb-82f7-128744a96f7e"
      },
      "outputs": [
        {
          "output_type": "stream",
          "name": "stdout",
          "text": [
            "Looking in indexes: https://pypi.org/simple, https://us-python.pkg.dev/colab-wheels/public/simple/\n",
            "Collecting pyspark\n",
            "  Downloading pyspark-3.4.0.tar.gz (310.8 MB)\n",
            "\u001b[2K     \u001b[90m━━━━━━━━━━━━━━━━━━━━━━━━━━━━━━━━━━━━━━━\u001b[0m \u001b[32m310.8/310.8 MB\u001b[0m \u001b[31m4.6 MB/s\u001b[0m eta \u001b[36m0:00:00\u001b[0m\n",
            "\u001b[?25h  Preparing metadata (setup.py) ... \u001b[?25l\u001b[?25hdone\n",
            "Requirement already satisfied: py4j==0.10.9.7 in /usr/local/lib/python3.9/dist-packages (from pyspark) (0.10.9.7)\n",
            "Building wheels for collected packages: pyspark\n",
            "  Building wheel for pyspark (setup.py) ... \u001b[?25l\u001b[?25hdone\n",
            "  Created wheel for pyspark: filename=pyspark-3.4.0-py2.py3-none-any.whl size=311317145 sha256=15b784fd08e4cb122cd8e90a035a331f0d81000fd543aaa28cf2c117228582ba\n",
            "  Stored in directory: /root/.cache/pip/wheels/9f/34/a4/159aa12d0a510d5ff7c8f0220abbea42e5d81ecf588c4fd884\n",
            "Successfully built pyspark\n",
            "Installing collected packages: pyspark\n",
            "Successfully installed pyspark-3.4.0\n"
          ]
        }
      ],
      "source": [
        "!pip install pyspark"
      ]
    },
    {
      "cell_type": "code",
      "source": [
        "from pyspark.sql.functions import col\n",
        "from pyspark.ml.feature import PCA\n",
        "from pyspark.ml.feature import StringIndexer\n",
        "from pyspark.ml.feature import VectorAssembler\n",
        "from pyspark.sql import SparkSession\n",
        "from pyspark.ml import Pipeline\n",
        "from pyspark.ml.classification import LinearSVC\n",
        "from pyspark.ml.evaluation import MulticlassClassificationEvaluator\n",
        "from pyspark.ml.feature import StandardScaler\n",
        "from pyspark.sql.functions import monotonically_increasing_id\n",
        "from pyspark.ml.feature import MinMaxScaler\n",
        "from pyspark.ml.stat import Correlation\n",
        "import seaborn as sns\n",
        "import matplotlib.pyplot as plt\n",
        "from pyspark.sql import SparkSession\n",
        "from pyspark.ml.classification import LogisticRegression\n",
        "from pyspark.ml.evaluation import BinaryClassificationEvaluator\n",
        "\n",
        "spark=SparkSession.builder.appName('my_app').getOrCreate()\n",
        "df = spark.read.csv(\"/content/ML_hw_dataset.csv\", header=True, inferSchema=True)\n",
        "\n",
        "df.show()                 "
      ],
      "metadata": {
        "colab": {
          "base_uri": "https://localhost:8080/"
        },
        "id": "atO7SbbQtzQe",
        "outputId": "5422914c-46d8-4a91-c27f-a1042da67687"
      },
      "execution_count": 1,
      "outputs": [
        {
          "output_type": "stream",
          "name": "stdout",
          "text": [
            "+---+-----------+--------+-----------------+-------+-------+----+---------+-----+-----------+--------+--------+-----+--------+-----------+------------+--------------+-------------+---------+-----------+---+\n",
            "|age|        job| marital|        education|default|housing|loan|  contact|month|day_of_week|duration|campaign|pdays|previous|   poutcome|emp_var_rate|cons_price_idx|cons_conf_idx|euribor3m|nr_employed|  y|\n",
            "+---+-----------+--------+-----------------+-------+-------+----+---------+-----+-----------+--------+--------+-----+--------+-----------+------------+--------------+-------------+---------+-----------+---+\n",
            "| 44|blue-collar| married|         basic.4y|unknown|    yes|  no| cellular|  aug|        thu|     210|       1|  999|       0|nonexistent|         1.4|        93.444|        -36.1|    4.963|     5228.1|  0|\n",
            "| 53| technician| married|          unknown|     no|     no|  no| cellular|  nov|        fri|     138|       1|  999|       0|nonexistent|        -0.1|          93.2|        -42.0|    4.021|     5195.8|  0|\n",
            "| 28| management|  single|university.degree|     no|    yes|  no| cellular|  jun|        thu|     339|       3|    6|       2|    success|        -1.7|        94.055|        -39.8|    0.729|     4991.6|  1|\n",
            "| 39|   services| married|      high.school|     no|     no|  no| cellular|  apr|        fri|     185|       2|  999|       0|nonexistent|        -1.8|        93.075|        -47.1|    1.405|     5099.1|  0|\n",
            "| 55|    retired| married|         basic.4y|     no|    yes|  no| cellular|  aug|        fri|     137|       1|    3|       1|    success|        -2.9|        92.201|        -31.4|    0.869|     5076.2|  1|\n",
            "| 30| management|divorced|         basic.4y|     no|    yes|  no| cellular|  jul|        tue|      68|       8|  999|       0|nonexistent|         1.4|        93.918|        -42.7|    4.961|     5228.1|  0|\n",
            "| 37|blue-collar| married|         basic.4y|     no|    yes|  no| cellular|  may|        thu|     204|       1|  999|       0|nonexistent|        -1.8|        92.893|        -46.2|    1.327|     5099.1|  0|\n",
            "| 39|blue-collar|divorced|         basic.9y|     no|    yes|  no| cellular|  may|        fri|     191|       1|  999|       0|nonexistent|        -1.8|        92.893|        -46.2|    1.313|     5099.1|  0|\n",
            "| 36|     admin.| married|university.degree|     no|     no|  no| cellular|  jun|        mon|     174|       1|    3|       1|    success|        -2.9|        92.963|        -40.8|    1.266|     5076.2|  1|\n",
            "| 27|blue-collar|  single|         basic.4y|     no|    yes|  no| cellular|  apr|        thu|     191|       2|  999|       1|    failure|        -1.8|        93.075|        -47.1|     1.41|     5099.1|  0|\n",
            "| 34|  housemaid|  single|university.degree|     no|     no|  no|telephone|  may|        fri|      62|       2|  999|       0|nonexistent|         1.1|        93.994|        -36.4|    4.864|     5191.0|  0|\n",
            "| 41| management| married|university.degree|     no|    yes|  no| cellular|  aug|        thu|     789|       1|  999|       0|nonexistent|         1.4|        93.444|        -36.1|    4.964|     5228.1|  0|\n",
            "| 55| management| married|university.degree|     no|     no|  no| cellular|  aug|        mon|     372|       3|  999|       0|nonexistent|         1.4|        93.444|        -36.1|    4.965|     5228.1|  1|\n",
            "| 33|   services|divorced|      high.school|     no|    yes|  no| cellular|  may|        tue|      75|       5|  999|       0|nonexistent|        -1.8|        92.893|        -46.2|    1.291|     5099.1|  0|\n",
            "| 26|     admin.| married|      high.school|     no|     no| yes|telephone|  jun|        mon|    1021|       1|  999|       0|nonexistent|         1.4|        94.465|        -41.8|     4.96|     5228.1|  0|\n",
            "| 52|   services| married|      high.school|unknown|    yes|  no| cellular|  jul|        thu|     117|       2|  999|       0|nonexistent|         1.4|        93.918|        -42.7|    4.962|     5228.1|  0|\n",
            "| 35|   services| married|      high.school|     no|     no|  no| cellular|  apr|        thu|    1034|       2|  999|       0|nonexistent|        -1.8|        93.075|        -47.1|    1.365|     5099.1|  1|\n",
            "| 27|     admin.|  single|university.degree|     no|     no|  no|telephone|  oct|        tue|     540|       1|  999|       0|nonexistent|        -0.1|        93.798|        -40.4|     4.86|     5195.8|  1|\n",
            "| 28|blue-collar| married|         basic.9y|unknown|     no|  no|telephone|  may|        thu|     140|       1|  999|       0|nonexistent|         1.1|        93.994|        -36.4|     4.86|     5191.0|  0|\n",
            "| 26| unemployed|  single|         basic.9y|     no|    yes| yes| cellular|  jul|        mon|     104|       4|  999|       0|nonexistent|         1.4|        93.918|        -42.7|     4.96|     5228.1|  0|\n",
            "+---+-----------+--------+-----------------+-------+-------+----+---------+-----+-----------+--------+--------+-----+--------+-----------+------------+--------------+-------------+---------+-----------+---+\n",
            "only showing top 20 rows\n",
            "\n"
          ]
        }
      ]
    },
    {
      "cell_type": "code",
      "source": [
        "string_cols = [col_name for col_name, col_type in df.dtypes if col_type == 'string']\n",
        "indexers = [StringIndexer(inputCol=col_name, outputCol=col_name + \"_indexed\") for col_name in string_cols]\n",
        "indexer_pipeline = Pipeline(stages=indexers)\n",
        "df = indexer_pipeline.fit(df).transform(df)\n",
        "df = df.drop(*string_cols)\n",
        "df.show()"
      ],
      "metadata": {
        "colab": {
          "base_uri": "https://localhost:8080/"
        },
        "id": "NvWIwe1rksWn",
        "outputId": "559a2cc7-4ab8-4d10-b092-b74748d9d768"
      },
      "execution_count": 2,
      "outputs": [
        {
          "output_type": "stream",
          "name": "stdout",
          "text": [
            "+---+--------+--------+-----+--------+------------+--------------+-------------+---------+-----------+---+-----------+---------------+-----------------+---------------+---------------+------------+---------------+-------------+-------------------+----------------+\n",
            "|age|duration|campaign|pdays|previous|emp_var_rate|cons_price_idx|cons_conf_idx|euribor3m|nr_employed|  y|job_indexed|marital_indexed|education_indexed|default_indexed|housing_indexed|loan_indexed|contact_indexed|month_indexed|day_of_week_indexed|poutcome_indexed|\n",
            "+---+--------+--------+-----+--------+------------+--------------+-------------+---------+-----------+---+-----------+---------------+-----------------+---------------+---------------+------------+---------------+-------------+-------------------+----------------+\n",
            "| 44|     210|       1|  999|       0|         1.4|        93.444|        -36.1|    4.963|     5228.1|  0|        1.0|            0.0|              4.0|            1.0|            0.0|         0.0|            0.0|          2.0|                0.0|             0.0|\n",
            "| 53|     138|       1|  999|       0|        -0.1|          93.2|        -42.0|    4.021|     5195.8|  0|        2.0|            0.0|              6.0|            0.0|            1.0|         0.0|            0.0|          4.0|                4.0|             0.0|\n",
            "| 28|     339|       3|    6|       2|        -1.7|        94.055|        -39.8|    0.729|     4991.6|  1|        4.0|            1.0|              0.0|            0.0|            0.0|         0.0|            0.0|          3.0|                0.0|             2.0|\n",
            "| 39|     185|       2|  999|       0|        -1.8|        93.075|        -47.1|    1.405|     5099.1|  0|        3.0|            0.0|              1.0|            0.0|            1.0|         0.0|            0.0|          5.0|                4.0|             0.0|\n",
            "| 55|     137|       1|    3|       1|        -2.9|        92.201|        -31.4|    0.869|     5076.2|  1|        5.0|            0.0|              4.0|            0.0|            0.0|         0.0|            0.0|          2.0|                4.0|             2.0|\n",
            "| 30|      68|       8|  999|       0|         1.4|        93.918|        -42.7|    4.961|     5228.1|  0|        4.0|            2.0|              4.0|            0.0|            0.0|         0.0|            0.0|          1.0|                3.0|             0.0|\n",
            "| 37|     204|       1|  999|       0|        -1.8|        92.893|        -46.2|    1.327|     5099.1|  0|        1.0|            0.0|              4.0|            0.0|            0.0|         0.0|            0.0|          0.0|                0.0|             0.0|\n",
            "| 39|     191|       1|  999|       0|        -1.8|        92.893|        -46.2|    1.313|     5099.1|  0|        1.0|            2.0|              2.0|            0.0|            0.0|         0.0|            0.0|          0.0|                4.0|             0.0|\n",
            "| 36|     174|       1|    3|       1|        -2.9|        92.963|        -40.8|    1.266|     5076.2|  1|        0.0|            0.0|              0.0|            0.0|            1.0|         0.0|            0.0|          3.0|                1.0|             2.0|\n",
            "| 27|     191|       2|  999|       1|        -1.8|        93.075|        -47.1|     1.41|     5099.1|  0|        1.0|            1.0|              4.0|            0.0|            0.0|         0.0|            0.0|          5.0|                0.0|             1.0|\n",
            "| 34|      62|       2|  999|       0|         1.1|        93.994|        -36.4|    4.864|     5191.0|  0|        8.0|            1.0|              0.0|            0.0|            1.0|         0.0|            1.0|          0.0|                4.0|             0.0|\n",
            "| 41|     789|       1|  999|       0|         1.4|        93.444|        -36.1|    4.964|     5228.1|  0|        4.0|            0.0|              0.0|            0.0|            0.0|         0.0|            0.0|          2.0|                0.0|             0.0|\n",
            "| 55|     372|       3|  999|       0|         1.4|        93.444|        -36.1|    4.965|     5228.1|  1|        4.0|            0.0|              0.0|            0.0|            1.0|         0.0|            0.0|          2.0|                1.0|             0.0|\n",
            "| 33|      75|       5|  999|       0|        -1.8|        92.893|        -46.2|    1.291|     5099.1|  0|        3.0|            2.0|              1.0|            0.0|            0.0|         0.0|            0.0|          0.0|                3.0|             0.0|\n",
            "| 26|    1021|       1|  999|       0|         1.4|        94.465|        -41.8|     4.96|     5228.1|  0|        0.0|            0.0|              1.0|            0.0|            1.0|         1.0|            1.0|          3.0|                1.0|             0.0|\n",
            "| 52|     117|       2|  999|       0|         1.4|        93.918|        -42.7|    4.962|     5228.1|  0|        3.0|            0.0|              1.0|            1.0|            0.0|         0.0|            0.0|          1.0|                0.0|             0.0|\n",
            "| 35|    1034|       2|  999|       0|        -1.8|        93.075|        -47.1|    1.365|     5099.1|  1|        3.0|            0.0|              1.0|            0.0|            1.0|         0.0|            0.0|          5.0|                0.0|             0.0|\n",
            "| 27|     540|       1|  999|       0|        -0.1|        93.798|        -40.4|     4.86|     5195.8|  1|        0.0|            1.0|              0.0|            0.0|            1.0|         0.0|            1.0|          6.0|                3.0|             0.0|\n",
            "| 28|     140|       1|  999|       0|         1.1|        93.994|        -36.4|     4.86|     5191.0|  0|        1.0|            0.0|              2.0|            1.0|            1.0|         0.0|            1.0|          0.0|                0.0|             0.0|\n",
            "| 26|     104|       4|  999|       0|         1.4|        93.918|        -42.7|     4.96|     5228.1|  0|        9.0|            1.0|              2.0|            0.0|            0.0|         1.0|            0.0|          1.0|                1.0|             0.0|\n",
            "+---+--------+--------+-----+--------+------------+--------------+-------------+---------+-----------+---+-----------+---------------+-----------------+---------------+---------------+------------+---------------+-------------+-------------------+----------------+\n",
            "only showing top 20 rows\n",
            "\n"
          ]
        }
      ]
    },
    {
      "cell_type": "code",
      "source": [
        "from pyspark.sql.functions import col\n",
        "df_numeric = df\n",
        "#numeric_cols=[c for c ,t in df.dtypes if t in ['int','double','float','long']]\n",
        "numeric_cols = [column for column in df_numeric.columns if column != 'y']\n",
        "for col_name in numeric_cols:\n",
        "  q1=df.approxQuantile(col_name,[0.25],0.01)[0]\n",
        "  q3=df.approxQuantile(col_name,[0.75],0.01)[0]\n",
        "  iqr=q3-q1\n",
        "\n",
        "  k=1.5\n",
        "  lower_bound=q1-k*iqr\n",
        "  upper_bound=q3+k*iqr\n",
        "  \n",
        "  df=df.filter((col(col_name) >= lower_bound) & (col(col_name)<=upper_bound))\n",
        "\n",
        "df.show()"
      ],
      "metadata": {
        "colab": {
          "base_uri": "https://localhost:8080/"
        },
        "id": "xa7LlHKy23BK",
        "outputId": "8bedf16d-37a6-4f94-c1cb-fb44122ad54e"
      },
      "execution_count": 3,
      "outputs": [
        {
          "output_type": "stream",
          "name": "stdout",
          "text": [
            "+---+--------+--------+-----+--------+------------+--------------+-------------+---------+-----------+---+-----------+---------------+-----------------+---------------+---------------+------------+---------------+-------------+-------------------+----------------+\n",
            "|age|duration|campaign|pdays|previous|emp_var_rate|cons_price_idx|cons_conf_idx|euribor3m|nr_employed|  y|job_indexed|marital_indexed|education_indexed|default_indexed|housing_indexed|loan_indexed|contact_indexed|month_indexed|day_of_week_indexed|poutcome_indexed|\n",
            "+---+--------+--------+-----+--------+------------+--------------+-------------+---------+-----------+---+-----------+---------------+-----------------+---------------+---------------+------------+---------------+-------------+-------------------+----------------+\n",
            "| 53|     138|       1|  999|       0|        -0.1|          93.2|        -42.0|    4.021|     5195.8|  0|        2.0|            0.0|              6.0|            0.0|            1.0|         0.0|            0.0|          4.0|                4.0|             0.0|\n",
            "| 55|     372|       3|  999|       0|         1.4|        93.444|        -36.1|    4.965|     5228.1|  1|        4.0|            0.0|              0.0|            0.0|            1.0|         0.0|            0.0|          2.0|                1.0|             0.0|\n",
            "| 27|     540|       1|  999|       0|        -0.1|        93.798|        -40.4|     4.86|     5195.8|  1|        0.0|            1.0|              0.0|            0.0|            1.0|         0.0|            1.0|          6.0|                3.0|             0.0|\n",
            "| 32|      35|       1|  999|       0|         1.4|        93.918|        -42.7|    4.968|     5228.1|  0|        2.0|            1.0|              3.0|            0.0|            1.0|         0.0|            0.0|          1.0|                0.0|             0.0|\n",
            "| 47|     115|       1|  999|       0|         1.4|        94.465|        -41.8|    4.961|     5228.1|  0|        3.0|            2.0|              1.0|            0.0|            1.0|         0.0|            1.0|          3.0|                3.0|             0.0|\n",
            "| 36|     294|       2|  999|       0|         1.1|        93.994|        -36.4|     4.86|     5191.0|  0|        1.0|            0.0|              2.0|            0.0|            1.0|         0.0|            1.0|          0.0|                0.0|             0.0|\n",
            "| 42|      24|       1|  999|       0|         1.1|        93.994|        -36.4|    4.857|     5191.0|  0|        1.0|            0.0|              4.0|            0.0|            0.0|         0.0|            1.0|          0.0|                2.0|             0.0|\n",
            "| 44|     345|       5|  999|       0|         1.4|        93.918|        -42.7|    4.961|     5228.1|  0|        1.0|            0.0|              4.0|            0.0|            1.0|         0.0|            0.0|          1.0|                3.0|             0.0|\n",
            "| 39|      68|       1|  999|       0|         1.1|        93.994|        -36.4|    4.859|     5191.0|  0|        4.0|            0.0|              0.0|            0.0|            0.0|         0.0|            1.0|          0.0|                2.0|             0.0|\n",
            "| 30|     122|       4|  999|       0|         1.1|        93.994|        -36.4|    4.857|     5191.0|  0|        1.0|            0.0|              1.0|            0.0|            1.0|         0.0|            1.0|          0.0|                1.0|             0.0|\n",
            "| 38|     162|       4|  999|       0|         1.1|        93.994|        -36.4|    4.859|     5191.0|  0|        1.0|            0.0|              3.0|            0.0|            0.0|         0.0|            1.0|          0.0|                2.0|             0.0|\n",
            "| 41|      92|       1|  999|       0|         1.1|        93.994|        -36.4|    4.856|     5191.0|  0|        2.0|            0.0|              3.0|            0.0|            1.0|         0.0|            1.0|          0.0|                3.0|             0.0|\n",
            "| 37|     450|       1|  999|       0|        -0.1|          93.2|        -42.0|    4.021|     5195.8|  0|        0.0|            0.0|              0.0|            0.0|            0.0|         0.0|            0.0|          4.0|                4.0|             0.0|\n",
            "| 31|     168|       2|  999|       0|         1.4|        93.918|        -42.7|    4.962|     5228.1|  0|        0.0|            1.0|              1.0|            0.0|            1.0|         0.0|            0.0|          1.0|                4.0|             0.0|\n",
            "| 33|     349|       4|  999|       0|         1.1|        93.994|        -36.4|    4.857|     5191.0|  0|        2.0|            0.0|              3.0|            0.0|            0.0|         0.0|            1.0|          0.0|                1.0|             0.0|\n",
            "| 33|      55|       1|  999|       0|        -0.1|          93.2|        -42.0|    4.076|     5195.8|  0|        6.0|            0.0|              0.0|            0.0|            1.0|         0.0|            0.0|          4.0|                0.0|             0.0|\n",
            "| 45|     221|       1|  999|       0|         1.1|        93.994|        -36.4|    4.857|     5191.0|  0|        3.0|            0.0|              3.0|            0.0|            0.0|         0.0|            1.0|          0.0|                1.0|             0.0|\n",
            "| 40|      77|       2|  999|       0|         1.4|        93.918|        -42.7|     4.96|     5228.1|  0|        4.0|            0.0|              0.0|            0.0|            1.0|         0.0|            0.0|          1.0|                1.0|             0.0|\n",
            "| 53|     249|       1|  999|       0|         1.1|        93.994|        -36.4|    4.856|     5191.0|  0|        2.0|            2.0|              3.0|            0.0|            1.0|         0.0|            1.0|          0.0|                3.0|             0.0|\n",
            "| 35|     106|       1|  999|       0|         1.4|        93.918|        -42.7|    4.968|     5228.1|  0|        7.0|            1.0|              0.0|            0.0|            0.0|         0.0|            0.0|          1.0|                0.0|             0.0|\n",
            "+---+--------+--------+-----+--------+------------+--------------+-------------+---------+-----------+---+-----------+---------------+-----------------+---------------+---------------+------------+---------------+-------------+-------------------+----------------+\n",
            "only showing top 20 rows\n",
            "\n"
          ]
        }
      ]
    },
    {
      "cell_type": "code",
      "source": [
        "z=['duration','emp_var_rate','euribor3m','nr_employed']\n",
        "assembler = VectorAssembler(inputCols=z, outputCol=\"features\")\n",
        "assembled_df = assembler.transform(df).select(\"features\")\n",
        "\n",
        "scaler = MinMaxScaler(inputCol=\"features\", outputCol=\"scaled_features\")\n",
        "scaler_model = scaler.fit(assembled_df)\n",
        "df_normalized = scaler_model.transform(assembled_df)\n",
        "\n",
        "df_normalized = df_normalized.withColumn(\"id\", monotonically_increasing_id())\n",
        "df = df.withColumn(\"id\", monotonically_increasing_id())\n",
        "\n",
        "df_normalized = df_normalized.join(df, \"id\", \"outer\").drop(df_normalized[\"id\"])\n",
        "df.show(10)\n",
        "\n",
        "df=df_normalized.select('scaled_features','y')\n",
        "df.show()"
      ],
      "metadata": {
        "id": "u3iqdMpK_L6M",
        "colab": {
          "base_uri": "https://localhost:8080/"
        },
        "outputId": "7ec23996-96b5-4c97-becc-5ee290fb1286"
      },
      "execution_count": 3,
      "outputs": [
        {
          "output_type": "stream",
          "name": "stdout",
          "text": [
            "+---+--------+--------+-----+--------+------------+--------------+-------------+---------+-----------+---+-----------+---------------+-----------------+---------------+---------------+------------+---------------+-------------+-------------------+----------------+---+\n",
            "|age|duration|campaign|pdays|previous|emp_var_rate|cons_price_idx|cons_conf_idx|euribor3m|nr_employed|  y|job_indexed|marital_indexed|education_indexed|default_indexed|housing_indexed|loan_indexed|contact_indexed|month_indexed|day_of_week_indexed|poutcome_indexed| id|\n",
            "+---+--------+--------+-----+--------+------------+--------------+-------------+---------+-----------+---+-----------+---------------+-----------------+---------------+---------------+------------+---------------+-------------+-------------------+----------------+---+\n",
            "| 44|     210|       1|  999|       0|         1.4|        93.444|        -36.1|    4.963|     5228.1|  0|        1.0|            0.0|              4.0|            1.0|            0.0|         0.0|            0.0|          2.0|                0.0|             0.0|  0|\n",
            "| 53|     138|       1|  999|       0|        -0.1|          93.2|        -42.0|    4.021|     5195.8|  0|        2.0|            0.0|              6.0|            0.0|            1.0|         0.0|            0.0|          4.0|                4.0|             0.0|  1|\n",
            "| 28|     339|       3|    6|       2|        -1.7|        94.055|        -39.8|    0.729|     4991.6|  1|        4.0|            1.0|              0.0|            0.0|            0.0|         0.0|            0.0|          3.0|                0.0|             2.0|  2|\n",
            "| 39|     185|       2|  999|       0|        -1.8|        93.075|        -47.1|    1.405|     5099.1|  0|        3.0|            0.0|              1.0|            0.0|            1.0|         0.0|            0.0|          5.0|                4.0|             0.0|  3|\n",
            "| 55|     137|       1|    3|       1|        -2.9|        92.201|        -31.4|    0.869|     5076.2|  1|        5.0|            0.0|              4.0|            0.0|            0.0|         0.0|            0.0|          2.0|                4.0|             2.0|  4|\n",
            "| 30|      68|       8|  999|       0|         1.4|        93.918|        -42.7|    4.961|     5228.1|  0|        4.0|            2.0|              4.0|            0.0|            0.0|         0.0|            0.0|          1.0|                3.0|             0.0|  5|\n",
            "| 37|     204|       1|  999|       0|        -1.8|        92.893|        -46.2|    1.327|     5099.1|  0|        1.0|            0.0|              4.0|            0.0|            0.0|         0.0|            0.0|          0.0|                0.0|             0.0|  6|\n",
            "| 39|     191|       1|  999|       0|        -1.8|        92.893|        -46.2|    1.313|     5099.1|  0|        1.0|            2.0|              2.0|            0.0|            0.0|         0.0|            0.0|          0.0|                4.0|             0.0|  7|\n",
            "| 36|     174|       1|    3|       1|        -2.9|        92.963|        -40.8|    1.266|     5076.2|  1|        0.0|            0.0|              0.0|            0.0|            1.0|         0.0|            0.0|          3.0|                1.0|             2.0|  8|\n",
            "| 27|     191|       2|  999|       1|        -1.8|        93.075|        -47.1|     1.41|     5099.1|  0|        1.0|            1.0|              4.0|            0.0|            0.0|         0.0|            0.0|          5.0|                0.0|             1.0|  9|\n",
            "+---+--------+--------+-----+--------+------------+--------------+-------------+---------+-----------+---+-----------+---------------+-----------------+---------------+---------------+------------+---------------+-------------+-------------------+----------------+---+\n",
            "only showing top 10 rows\n",
            "\n",
            "+--------------------+---+\n",
            "|     scaled_features|  y|\n",
            "+--------------------+---+\n",
            "|[0.04270028466856...|  0|\n",
            "|[0.02806018706791...|  0|\n",
            "|[0.06893045953639...|  1|\n",
            "|[0.03761691744611...|  0|\n",
            "|[0.02785685237901...|  1|\n",
            "|[0.01382675884505...|  0|\n",
            "|[0.04148027653517...|  0|\n",
            "|[0.03883692557950...|  0|\n",
            "|[0.03538023586823...|  1|\n",
            "|[0.03883692557950...|  0|\n",
            "|[0.01260675071167...|  0|\n",
            "|[0.16043106954046...|  0|\n",
            "|[0.07564050427002...|  1|\n",
            "|[0.01525010166734...|  0|\n",
            "|[0.20760471736478...|  0|\n",
            "|[0.02379015860105...|  0|\n",
            "|[0.21024806832045...|  1|\n",
            "|[0.10980073200488...|  1|\n",
            "|[0.02846685644570...|  0|\n",
            "|[0.02114680764538...|  0|\n",
            "+--------------------+---+\n",
            "only showing top 20 rows\n",
            "\n"
          ]
        }
      ]
    },
    {
      "cell_type": "code",
      "source": [
        "df_numeric = df\n",
        "feature_columns = [column for column in df_numeric.columns if column != 'y']\n",
        "\n",
        "assembler = VectorAssembler(inputCols=feature_columns, outputCol=\"features\")\n",
        "assembled_df = assembler.transform(df_numeric).select(\"features\")\n",
        "\n",
        "scaler = MinMaxScaler(inputCol=\"features\", outputCol=\"scaled_features\")\n",
        "scaler_model = scaler.fit(assembled_df)\n",
        "df_normalized = scaler_model.transform(assembled_df)\n",
        "\n",
        "df_normalized = df_normalized.withColumn(\"id\", monotonically_increasing_id())\n",
        "df = df.withColumn(\"id\", monotonically_increasing_id())\n",
        "\n",
        "df_normalized = df_normalized.join(df, \"id\", \"outer\").drop(df_normalized[\"id\"])\n",
        "df.show(10)\n",
        "\n",
        "df=df_normalized.select('scaled_features','y')\n",
        "df.show()\n",
        "\n",
        "df_numeric.show()"
      ],
      "metadata": {
        "colab": {
          "base_uri": "https://localhost:8080/"
        },
        "id": "4QfLPcoakxlR",
        "outputId": "9d4b92d2-46ce-472d-873d-e620c0cf254b"
      },
      "execution_count": 4,
      "outputs": [
        {
          "output_type": "stream",
          "name": "stdout",
          "text": [
            "+---+--------+--------+-----+--------+------------+--------------+-------------+---------+-----------+---+-----------+---------------+-----------------+---------------+---------------+------------+---------------+-------------+-------------------+----------------+---+\n",
            "|age|duration|campaign|pdays|previous|emp_var_rate|cons_price_idx|cons_conf_idx|euribor3m|nr_employed|  y|job_indexed|marital_indexed|education_indexed|default_indexed|housing_indexed|loan_indexed|contact_indexed|month_indexed|day_of_week_indexed|poutcome_indexed| id|\n",
            "+---+--------+--------+-----+--------+------------+--------------+-------------+---------+-----------+---+-----------+---------------+-----------------+---------------+---------------+------------+---------------+-------------+-------------------+----------------+---+\n",
            "| 53|     138|       1|  999|       0|        -0.1|          93.2|        -42.0|    4.021|     5195.8|  0|        2.0|            0.0|              6.0|            0.0|            1.0|         0.0|            0.0|          4.0|                4.0|             0.0|  0|\n",
            "| 55|     372|       3|  999|       0|         1.4|        93.444|        -36.1|    4.965|     5228.1|  1|        4.0|            0.0|              0.0|            0.0|            1.0|         0.0|            0.0|          2.0|                1.0|             0.0|  1|\n",
            "| 27|     540|       1|  999|       0|        -0.1|        93.798|        -40.4|     4.86|     5195.8|  1|        0.0|            1.0|              0.0|            0.0|            1.0|         0.0|            1.0|          6.0|                3.0|             0.0|  2|\n",
            "| 32|      35|       1|  999|       0|         1.4|        93.918|        -42.7|    4.968|     5228.1|  0|        2.0|            1.0|              3.0|            0.0|            1.0|         0.0|            0.0|          1.0|                0.0|             0.0|  3|\n",
            "| 47|     115|       1|  999|       0|         1.4|        94.465|        -41.8|    4.961|     5228.1|  0|        3.0|            2.0|              1.0|            0.0|            1.0|         0.0|            1.0|          3.0|                3.0|             0.0|  4|\n",
            "| 36|     294|       2|  999|       0|         1.1|        93.994|        -36.4|     4.86|     5191.0|  0|        1.0|            0.0|              2.0|            0.0|            1.0|         0.0|            1.0|          0.0|                0.0|             0.0|  5|\n",
            "| 42|      24|       1|  999|       0|         1.1|        93.994|        -36.4|    4.857|     5191.0|  0|        1.0|            0.0|              4.0|            0.0|            0.0|         0.0|            1.0|          0.0|                2.0|             0.0|  6|\n",
            "| 44|     345|       5|  999|       0|         1.4|        93.918|        -42.7|    4.961|     5228.1|  0|        1.0|            0.0|              4.0|            0.0|            1.0|         0.0|            0.0|          1.0|                3.0|             0.0|  7|\n",
            "| 39|      68|       1|  999|       0|         1.1|        93.994|        -36.4|    4.859|     5191.0|  0|        4.0|            0.0|              0.0|            0.0|            0.0|         0.0|            1.0|          0.0|                2.0|             0.0|  8|\n",
            "| 30|     122|       4|  999|       0|         1.1|        93.994|        -36.4|    4.857|     5191.0|  0|        1.0|            0.0|              1.0|            0.0|            1.0|         0.0|            1.0|          0.0|                1.0|             0.0|  9|\n",
            "+---+--------+--------+-----+--------+------------+--------------+-------------+---------+-----------+---+-----------+---------------+-----------------+---------------+---------------+------------+---------------+-------------+-------------------+----------------+---+\n",
            "only showing top 10 rows\n",
            "\n",
            "+--------------------+---+\n",
            "|     scaled_features|  y|\n",
            "+--------------------+---+\n",
            "|[0.82500000000000...|  0|\n",
            "|[0.875,0.58767772...|  1|\n",
            "|[0.17500000000000...|  1|\n",
            "|[0.30000000000000...|  0|\n",
            "|[0.675,0.18167456...|  0|\n",
            "|[0.4,0.4644549763...|  0|\n",
            "|[0.55,0.037914691...|  0|\n",
            "|[0.60000000000000...|  0|\n",
            "|[0.47500000000000...|  0|\n",
            "|[0.25,0.192733017...|  0|\n",
            "|[0.45,0.255924170...|  0|\n",
            "|[0.525,0.14533965...|  0|\n",
            "|(20,[0,1,3,4,7,8,...|  0|\n",
            "|[0.275,0.26540284...|  0|\n",
            "|[0.325,0.55134281...|  0|\n",
            "|[0.325,0.08688783...|  0|\n",
            "|[0.625,0.34913112...|  0|\n",
            "|[0.5,0.1216429699...|  0|\n",
            "|[0.82500000000000...|  0|\n",
            "|[0.375,0.16745655...|  0|\n",
            "+--------------------+---+\n",
            "only showing top 20 rows\n",
            "\n",
            "+---+--------+--------+-----+--------+------------+--------------+-------------+---------+-----------+---+-----------+---------------+-----------------+---------------+---------------+------------+---------------+-------------+-------------------+----------------+\n",
            "|age|duration|campaign|pdays|previous|emp_var_rate|cons_price_idx|cons_conf_idx|euribor3m|nr_employed|  y|job_indexed|marital_indexed|education_indexed|default_indexed|housing_indexed|loan_indexed|contact_indexed|month_indexed|day_of_week_indexed|poutcome_indexed|\n",
            "+---+--------+--------+-----+--------+------------+--------------+-------------+---------+-----------+---+-----------+---------------+-----------------+---------------+---------------+------------+---------------+-------------+-------------------+----------------+\n",
            "| 53|     138|       1|  999|       0|        -0.1|          93.2|        -42.0|    4.021|     5195.8|  0|        2.0|            0.0|              6.0|            0.0|            1.0|         0.0|            0.0|          4.0|                4.0|             0.0|\n",
            "| 55|     372|       3|  999|       0|         1.4|        93.444|        -36.1|    4.965|     5228.1|  1|        4.0|            0.0|              0.0|            0.0|            1.0|         0.0|            0.0|          2.0|                1.0|             0.0|\n",
            "| 27|     540|       1|  999|       0|        -0.1|        93.798|        -40.4|     4.86|     5195.8|  1|        0.0|            1.0|              0.0|            0.0|            1.0|         0.0|            1.0|          6.0|                3.0|             0.0|\n",
            "| 32|      35|       1|  999|       0|         1.4|        93.918|        -42.7|    4.968|     5228.1|  0|        2.0|            1.0|              3.0|            0.0|            1.0|         0.0|            0.0|          1.0|                0.0|             0.0|\n",
            "| 47|     115|       1|  999|       0|         1.4|        94.465|        -41.8|    4.961|     5228.1|  0|        3.0|            2.0|              1.0|            0.0|            1.0|         0.0|            1.0|          3.0|                3.0|             0.0|\n",
            "| 36|     294|       2|  999|       0|         1.1|        93.994|        -36.4|     4.86|     5191.0|  0|        1.0|            0.0|              2.0|            0.0|            1.0|         0.0|            1.0|          0.0|                0.0|             0.0|\n",
            "| 42|      24|       1|  999|       0|         1.1|        93.994|        -36.4|    4.857|     5191.0|  0|        1.0|            0.0|              4.0|            0.0|            0.0|         0.0|            1.0|          0.0|                2.0|             0.0|\n",
            "| 44|     345|       5|  999|       0|         1.4|        93.918|        -42.7|    4.961|     5228.1|  0|        1.0|            0.0|              4.0|            0.0|            1.0|         0.0|            0.0|          1.0|                3.0|             0.0|\n",
            "| 39|      68|       1|  999|       0|         1.1|        93.994|        -36.4|    4.859|     5191.0|  0|        4.0|            0.0|              0.0|            0.0|            0.0|         0.0|            1.0|          0.0|                2.0|             0.0|\n",
            "| 30|     122|       4|  999|       0|         1.1|        93.994|        -36.4|    4.857|     5191.0|  0|        1.0|            0.0|              1.0|            0.0|            1.0|         0.0|            1.0|          0.0|                1.0|             0.0|\n",
            "| 38|     162|       4|  999|       0|         1.1|        93.994|        -36.4|    4.859|     5191.0|  0|        1.0|            0.0|              3.0|            0.0|            0.0|         0.0|            1.0|          0.0|                2.0|             0.0|\n",
            "| 41|      92|       1|  999|       0|         1.1|        93.994|        -36.4|    4.856|     5191.0|  0|        2.0|            0.0|              3.0|            0.0|            1.0|         0.0|            1.0|          0.0|                3.0|             0.0|\n",
            "| 37|     450|       1|  999|       0|        -0.1|          93.2|        -42.0|    4.021|     5195.8|  0|        0.0|            0.0|              0.0|            0.0|            0.0|         0.0|            0.0|          4.0|                4.0|             0.0|\n",
            "| 31|     168|       2|  999|       0|         1.4|        93.918|        -42.7|    4.962|     5228.1|  0|        0.0|            1.0|              1.0|            0.0|            1.0|         0.0|            0.0|          1.0|                4.0|             0.0|\n",
            "| 33|     349|       4|  999|       0|         1.1|        93.994|        -36.4|    4.857|     5191.0|  0|        2.0|            0.0|              3.0|            0.0|            0.0|         0.0|            1.0|          0.0|                1.0|             0.0|\n",
            "| 33|      55|       1|  999|       0|        -0.1|          93.2|        -42.0|    4.076|     5195.8|  0|        6.0|            0.0|              0.0|            0.0|            1.0|         0.0|            0.0|          4.0|                0.0|             0.0|\n",
            "| 45|     221|       1|  999|       0|         1.1|        93.994|        -36.4|    4.857|     5191.0|  0|        3.0|            0.0|              3.0|            0.0|            0.0|         0.0|            1.0|          0.0|                1.0|             0.0|\n",
            "| 40|      77|       2|  999|       0|         1.4|        93.918|        -42.7|     4.96|     5228.1|  0|        4.0|            0.0|              0.0|            0.0|            1.0|         0.0|            0.0|          1.0|                1.0|             0.0|\n",
            "| 53|     249|       1|  999|       0|         1.1|        93.994|        -36.4|    4.856|     5191.0|  0|        2.0|            2.0|              3.0|            0.0|            1.0|         0.0|            1.0|          0.0|                3.0|             0.0|\n",
            "| 35|     106|       1|  999|       0|         1.4|        93.918|        -42.7|    4.968|     5228.1|  0|        7.0|            1.0|              0.0|            0.0|            0.0|         0.0|            0.0|          1.0|                0.0|             0.0|\n",
            "+---+--------+--------+-----+--------+------------+--------------+-------------+---------+-----------+---+-----------+---------------+-----------------+---------------+---------------+------------+---------------+-------------+-------------------+----------------+\n",
            "only showing top 20 rows\n",
            "\n"
          ]
        }
      ]
    },
    {
      "cell_type": "code",
      "source": [
        "from pyspark.sql import SparkSession\n",
        "from pyspark.ml.feature import VectorAssembler\n",
        "from pyspark.ml.stat import Correlation\n",
        "import seaborn as sns\n",
        "import matplotlib.pyplot as plt\n",
        "\n",
        "numeric_cols = [c for c,d in df.dtypes if d in ['int','double']]\n",
        "df.select(numeric_cols).show()\n",
        "assembler = VectorAssembler(inputCols=numeric_cols, outputCol='features')\n",
        "assembled_data = assembler.transform(df).select('features')\n",
        "\n",
        "correlation_matrix = Correlation.corr(assembled_data, 'features').head()\n",
        "corr_array = correlation_matrix[0].toArray()\n",
        "\n",
        "col_names = [c for c in numeric_cols]\n",
        "\n",
        "sns.set(font_scale=1.2)\n",
        "fig, ax = plt.subplots(figsize=(10,10))\n",
        "sns.heatmap(corr_array, cmap='cool', annot=True, square=True, xticklabels=col_names, yticklabels=col_names, ax=ax)\n",
        "\n",
        "plt.show()"
      ],
      "metadata": {
        "id": "MlgyunuvduPR"
      },
      "execution_count": null,
      "outputs": []
    },
    {
      "cell_type": "code",
      "source": [
        "numeric_cols = [col_name for col_name, col_type in df.dtypes if col_type != 'string' and col_name != \"y\"]\n",
        "assembler = VectorAssembler(inputCols=numeric_cols, outputCol=\"features\")\n",
        "assembled_df = assembler.transform(df)\n",
        "pca = PCA(k=10, inputCol=\"features\", outputCol=\"pca_features\")\n",
        "model = pca.fit(assembled_df)\n",
        "df = model.transform(assembled_df).select(\"pca_features\",\"y\")\n",
        "df.show()"
      ],
      "metadata": {
        "colab": {
          "base_uri": "https://localhost:8080/"
        },
        "id": "de83iPt00a-q",
        "outputId": "268f1715-75fd-4010-aa51-97d1fcb6c854"
      },
      "execution_count": 6,
      "outputs": [
        {
          "output_type": "stream",
          "name": "stdout",
          "text": [
            "+--------------------+---+\n",
            "|        pca_features|  y|\n",
            "+--------------------+---+\n",
            "|[-0.0999546372599...|  0|\n",
            "|[0.06507406236595...|  1|\n",
            "|[-0.8018700894733...|  1|\n",
            "|[0.41208932986766...|  0|\n",
            "|[-0.3334411465658...|  0|\n",
            "|[-1.2621731220604...|  0|\n",
            "|[-1.1696586088691...|  0|\n",
            "|[0.33875569406254...|  0|\n",
            "|[-1.1519260136163...|  0|\n",
            "|[-1.2631315358863...|  0|\n",
            "|[-1.1594630313504...|  0|\n",
            "|[-1.3171979129688...|  0|\n",
            "|[0.06801899202430...|  0|\n",
            "|[0.36050043913757...|  0|\n",
            "|[-1.1473050751484...|  0|\n",
            "|[-1.1985710866748...|  0|\n",
            "|[-1.1558260541882...|  0|\n",
            "|[0.38960344509810...|  0|\n",
            "|[-1.2858322655068...|  0|\n",
            "|[0.55329119697683...|  0|\n",
            "+--------------------+---+\n",
            "only showing top 20 rows\n",
            "\n"
          ]
        }
      ]
    },
    {
      "cell_type": "code",
      "source": [
        "train_data, test_data = df.randomSplit([0.8, 0.2], seed=100)\n",
        "\n",
        "svm = LinearSVC(featuresCol='pca_features', labelCol=\"y\")\n",
        "svm_model = svm.fit(train_data)\n",
        "predictions = svm_model.transform(test_data)\n",
        "\n",
        "\n",
        "print('recal svm:',svm_model.evaluate(test_data).recallByLabel)\n",
        "print('accuracy svm:',svm_model.evaluate(test_data).accuracy)\n",
        "print('precision svm:',svm_model.evaluate(test_data).precisionByLabel)\n",
        "\n",
        "lr = LogisticRegression(labelCol='y', featuresCol='pca_features')\n",
        "lr_model = lr.fit(train_data)\n",
        "predictions = lr_model.transform(test_data)\n",
        "\n",
        "print('##########################################')\n",
        "print('recal logisticregression: ',lr_model.evaluate(test_data).recallByLabel)\n",
        "print('accuracy logisticregression',lr_model.evaluate(test_data).accuracy)\n",
        "print('precision logisticregression',lr_model.evaluate(test_data).precisionByLabel)"
      ],
      "metadata": {
        "colab": {
          "base_uri": "https://localhost:8080/"
        },
        "id": "BmNhagGVvIRF",
        "outputId": "313806e1-d501-4c7f-9a1d-a0303988f2c1"
      },
      "execution_count": 7,
      "outputs": [
        {
          "output_type": "stream",
          "name": "stdout",
          "text": [
            "recal svm: [1.0, 0.0]\n",
            "accuracy svm: 0.9820952380952381\n",
            "precision svm: [0.9820952380952381, 0.0]\n",
            "##########################################\n",
            "recal logisticregression:  [1.0, 0.0]\n",
            "accuracy logisticregression 0.9820952380952381\n",
            "precision logisticregression [0.9820952380952381, 0.0]\n"
          ]
        }
      ]
    }
  ]
}